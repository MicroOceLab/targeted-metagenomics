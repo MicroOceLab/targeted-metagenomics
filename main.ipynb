{
 "cells": [
  {
   "cell_type": "markdown",
   "id": "4ec6bed8-18d3-4118-bd58-543d8372433d",
   "metadata": {},
   "source": [
    "<h1>Full-length 16S Metagenomics Pipeline</h1>"
   ]
  },
  {
   "cell_type": "markdown",
   "id": "1c087b63-fb5f-4b1b-a528-fba07dfd3ba6",
   "metadata": {},
   "source": [
    "## Starting Files \n",
    "\n",
    "1. This Jupyter notebook\n",
    "2. Directories for organizing the data. To make the folders, run the following code block:"
   ]
  },
  {
   "cell_type": "code",
   "execution_count": 2,
   "id": "f0f8a8a7-22f0-489e-962c-922f96e6c945",
   "metadata": {},
   "outputs": [
    {
     "name": "stdout",
     "output_type": "stream",
     "text": [
      "mkdir: cannot create directory ‘data’: File exists\n"
     ]
    }
   ],
   "source": [
    "!mkdir \\\n",
    "data \\\n",
    "results \\\n",
    "results/1-data-prep \\\n",
    "results/2-asv-infer \\\n",
    "results/3-tax-assign \\\n",
    "results/4-rarefy \\\n",
    "results/5-diversity"
   ]
  },
  {
   "cell_type": "markdown",
   "id": "a3a7e968-47bb-43e1-9fde-b8d50c3c95e7",
   "metadata": {},
   "source": [
    "# <font color = 'gray'>Step 1: Data Preparation</font>"
   ]
  },
  {
   "cell_type": "markdown",
   "id": "4918352d-eb3b-4fd1-9e65-125acef626ff",
   "metadata": {},
   "source": [
    "### Importing the sequencing reads into the pipeline\n",
    "\n",
    "To begin this pipeline, ensure that the sequencing reads have been transferred into the <font face=\"Consolas\">**data folder**</font>"
   ]
  },
  {
   "cell_type": "markdown",
   "id": "10df12e3-a43b-453b-838a-3c609d1132a0",
   "metadata": {},
   "source": [
    "### Making a manifest file\n",
    "\n",
    "Before we import our data, we have to make a **manifest file** that contains links to the PacBio Circular Consensus Sequencing (CCS) reads of each sample."
   ]
  },
  {
   "cell_type": "code",
   "execution_count": 3,
   "id": "48738537-5fbf-430c-8753-70d597760b67",
   "metadata": {},
   "outputs": [],
   "source": [
    "import pandas as pd\n",
    "import glob\n",
    "import os\n",
    "\n",
    "sampleIDs, abs_path = [],[]\n",
    "fpath= os.getcwd()+\"/data/\"\n",
    "for filepath in (glob.glob(fpath+\"*.fastq\")):\n",
    "    sample = filepath.split(\"/\")[-1].rsplit(\"-\", 2)[0]\n",
    "\n",
    "    if sample not in sampleIDs:\n",
    "        sampleIDs.append(sample)\n",
    "    if filepath not in abs_path:\n",
    "        abs_path.append(filepath)\n",
    "\n",
    "manifest =  pd.DataFrame({'sampleID': sorted(sampleIDs), 'absolute-filepath': sorted(abs_path)})\n",
    "manifest = manifest.sort_index(axis=1, ascending=False)\n",
    "with open('results/1-data-prep/manifest.txt', 'w') as m:\n",
    "    print(manifest.to_csv(sep='\\t', index=False, header=True), file=m)"
   ]
  },
  {
   "cell_type": "markdown",
   "id": "c3bedc5d-2860-485b-9719-8f2874cafe12",
   "metadata": {},
   "source": [
    "### Converting the sequencing reads into QIIME2 artifacts\n",
    "\n",
    "To begin this pipeline, ensure that the sequencing reads have been transferred into the <font face=\"Consolas\">**data folder**</font>"
   ]
  },
  {
   "cell_type": "code",
   "execution_count": 6,
   "id": "8bd1966c-06ee-4b55-b4e3-03d8b601c82d",
   "metadata": {},
   "outputs": [
    {
     "name": "stdout",
     "output_type": "stream",
     "text": [
      "\u001b[32mImported manifest.txt as SingleEndFastqManifestPhred33V2 to 1-data-prep/ccs-reads.qza\u001b[0m\n",
      "\u001b[0m"
     ]
    }
   ],
   "source": [
    "!qiime tools import \\\n",
    "    --type SampleData[SequencesWithQuality] \\\n",
    "    --input-path results/1-data-prep/manifest.txt \\\n",
    "    --output-path results/1-data-prep/ccs-reads.qza \\\n",
    "    --input-format SingleEndFastqManifestPhred33V2"
   ]
  },
  {
   "cell_type": "markdown",
   "id": "96895b63-dafa-4270-9de6-70ab3f07e090",
   "metadata": {},
   "source": [
    "### Visualizing imported reads"
   ]
  },
  {
   "cell_type": "code",
   "execution_count": null,
   "id": "a50a1640-9fc7-4228-b079-2be183d8e155",
   "metadata": {},
   "outputs": [],
   "source": [
    "!qiime demux summarize \\\n",
    "    --i-data results/1-data-prep/ccs-reads.qza \\\n",
    "    --o-visualization results/1-data-prep/ccs-reads.qzv"
   ]
  },
  {
   "cell_type": "code",
   "execution_count": null,
   "id": "d2a241e1-2bb2-4456-9991-58acc1d99f59",
   "metadata": {},
   "outputs": [],
   "source": [
    "import qiime2 as q2\n",
    "q2.Visualization.load(\"results/1-data-prep/ccs-reads.qzv\")"
   ]
  },
  {
   "cell_type": "markdown",
   "id": "9df042d9-9498-4648-b2aa-4146d23adf12",
   "metadata": {},
   "source": [
    "# <font color = 'gray'>Step 2: ASV Inference (Denoising)</font>"
   ]
  },
  {
   "cell_type": "markdown",
   "id": "b8cf405e-8b0b-4d6b-b500-1d715a563147",
   "metadata": {},
   "source": [
    "[What is DADA2] [What does denoise CCS do?]"
   ]
  },
  {
   "cell_type": "code",
   "execution_count": null,
   "id": "925669a9-4ae4-420f-b741-79acb0a69082",
   "metadata": {},
   "outputs": [],
   "source": [
    "!qiime dada2 denoise-ccs \\\n",
    "    --i-demultiplexed-seqs results/1-data-prep/ccs-reads.qza \\\n",
    "    --p-front AGRGTTYGATYMTGGCTCAG \\\n",
    "    --p-adapter RGYTACCTTGTTACGACTT \\\n",
    "    --p-n-threads 4 \\\n",
    "    --p-min-len 1000 \\\n",
    "    --p-max-len 1600 \\\n",
    "    --o-table results/2-asv-infer/ccs-denoised-table.qza \\\n",
    "    --o-representative-sequences results/2-asv-infer/ccs-denoised-rep-seqs.qza \\\n",
    "    --o-denoising-stats results/2-asv-infer/ccs-denoised-stats.qza \\\n",
    "    --verbose"
   ]
  },
  {
   "cell_type": "code",
   "execution_count": null,
   "id": "a3e7ee4d-f97c-4917-bc0e-1ac6f8641306",
   "metadata": {},
   "outputs": [],
   "source": [
    "!qiime feature-table summarize \\\n",
    "    --i-table results/2-asv-infer/ccs-denoised-table.qza \\\n",
    "    --o-visualization results/2-asv-infer/ccs-denoised-table.qzv\n",
    "\n",
    "!qiime feature-table tabulate-seqs \\\n",
    "    --i-data results/2-asv-infer/ccs-denoised-rep-seqs.qza \\\n",
    "    --o-visualization results/2-asv-infer/ccs-denoised-rep-seqs.qzv\n",
    "\n",
    "!qiime metadata tabulate \\\n",
    "    --m-input-file results/2-asv-infer/ccs-denoised-stats.qza \\\n",
    "    --o-visualization results/2-asv-infer/ccs-denoised-stats.qzv"
   ]
  },
  {
   "cell_type": "code",
   "execution_count": null,
   "id": "3228b593-52a0-45f7-b74b-0d064dc66284",
   "metadata": {},
   "outputs": [],
   "source": [
    "q2.Visualization.load(\"results/2-asv-infer/ccs-denoised-table.qzv\")"
   ]
  },
  {
   "cell_type": "code",
   "execution_count": null,
   "id": "5a330f82-de6a-4c35-84b7-2e23bbdf207c",
   "metadata": {},
   "outputs": [],
   "source": [
    "q2.Visualization.load(\"results/2-asv-infer/ccs-denoised-rep-seqs.qzv\")"
   ]
  },
  {
   "cell_type": "code",
   "execution_count": null,
   "id": "4c34d34c-9da7-4257-898e-06384805885f",
   "metadata": {},
   "outputs": [],
   "source": [
    "q2.Visualization.load(\"results/2-asv-infer/ccs-denoised-stats.qzv\")"
   ]
  },
  {
   "cell_type": "markdown",
   "id": "ed78c1db-a76f-4a67-9ec7-97bd324f6eac",
   "metadata": {},
   "source": [
    "# <font color = 'gray'>Step 3: Taxonomic Assignment</font>"
   ]
  },
  {
   "cell_type": "markdown",
   "id": "4e10dc0e-c502-4169-9354-0f726e86cc66",
   "metadata": {},
   "source": [
    "### Annotating against\n",
    "\n",
    "To annotate the metabarcoding data, we use a reference database which will classify the sequences to their taxonomic identities using the plugin `sci-kit learn`. [Greengenes 16s]"
   ]
  },
  {
   "cell_type": "markdown",
   "id": "152d7ee4-700d-4ad3-ba0b-797748a68762",
   "metadata": {},
   "source": [
    "<font color = 'red'>NOTE: Replace the file specified in the <font face = 'Consolas'><b>--i-classifier</b></font> flag by whichever you will use. "
   ]
  },
  {
   "cell_type": "code",
   "execution_count": null,
   "id": "89f50fc6-5d0a-4edf-8d84-088aa6c6fddd",
   "metadata": {},
   "outputs": [],
   "source": [
    "#Using the green genes classifier to assign taxonomies to the ASV sequences\n",
    "!qiime feature-classifier classify-sklearn \\\n",
    "    --i-reads results/2-asv-infer/ccs-denoised-rep-seqs.qza \\\n",
    "    --i-classifier assets/2024.09.backbone.full-length.nb.qza \\\n",
    "    --o-classification results/3-tax-assign/asv-taxa.qza "
   ]
  },
  {
   "cell_type": "code",
   "execution_count": null,
   "id": "92d81ebe-f65a-4115-b6c7-7c760bbefccc",
   "metadata": {},
   "outputs": [],
   "source": [
    "#Tabulate predictions\n",
    "!qiime metadata tabulate \\\n",
    "    --m-input-file results/2-tax-assign/asv-taxa.qza \\\n",
    "    --o-visualization results/2-tax-assign/asv-taxa.qzv"
   ]
  },
  {
   "cell_type": "code",
   "execution_count": null,
   "id": "36b4fc02-c5fe-4eb6-b59c-a679847bf418",
   "metadata": {},
   "outputs": [],
   "source": [
    "#Visualize\n",
    "q2.Visualization.load('results/2-tax-assign/asv-taxa.qzv')"
   ]
  },
  {
   "cell_type": "markdown",
   "id": "75fa150b-ab24-43bf-a87e-ed1d113105d5",
   "metadata": {},
   "source": [
    "We can view interactive taxonomic barplot to see the composition of each sample.\n",
    "\n",
    "After loading the visualization, select *Level* to 7 to view at the most resolved classification. You can also toggle the orders of the samples based on their metadata."
   ]
  },
  {
   "cell_type": "code",
   "execution_count": null,
   "id": "99962957-12d9-4a84-bfaf-74f383ef56df",
   "metadata": {},
   "outputs": [],
   "source": [
    "#generate a taxa barplot\n",
    "!qiime taxa barplot \\\n",
    "    --i-table results/2-asv-infer/ccs-denoised-table.qza \\\n",
    "    --i-taxonomy results/3-tax-assign/asv-taxa.qza \\\n",
    "    --o-visualization results/3-tax-assign/2-bar-plots-asv.qzv"
   ]
  },
  {
   "cell_type": "code",
   "execution_count": null,
   "id": "c06f2a03-f93f-42f7-ab8a-538789363006",
   "metadata": {},
   "outputs": [],
   "source": [
    "q2.Visualization.load('results/2-tax-assign/2-bar-plots-asv.qzv')"
   ]
  },
  {
   "cell_type": "markdown",
   "id": "5e3e291e-334b-4512-a12c-78e69b9f033b",
   "metadata": {},
   "source": [
    "### Making a phylogenetic tree\n",
    "[needed for rarefaction]"
   ]
  },
  {
   "cell_type": "markdown",
   "id": "df71ed7d-10e7-4ed8-b61f-7b1d1c4a7525",
   "metadata": {},
   "source": [
    "# <font color = 'gray'>Step 4: Rarefaction</font>"
   ]
  },
  {
   "cell_type": "code",
   "execution_count": null,
   "id": "e9c8d926-08a6-4101-8563-45c537d25d2e",
   "metadata": {},
   "outputs": [],
   "source": [
    "# Generate a tree for phylogenetic diversity analyses\n",
    "!qiime phylogeny align-to-tree-mafft-fasttree \\\n",
    "    --i-sequences results/2-asv-infer/ccs-denoised-rep-seqs.qza \\\n",
    "    --o-alignment results/3-tax-assign/aligned-rep-seqs.qza \\\n",
    "    --o-masked-alignment results/3-tax-assign/masked-aligned-rep-seqs.qza \\\n",
    "    --o-tree results/3-tax-assign/unrooted-tree.qza \\\n",
    "    --o-rooted-tree results/3-tax-assign/rooted-tree.qza"
   ]
  },
  {
   "cell_type": "markdown",
   "id": "5e9c4b3e-cc0d-4fac-9a4e-eff4dde6dff3",
   "metadata": {},
   "source": [
    "### Making rarefaction curves\n",
    "[start with 10000] [modify based on graphs]"
   ]
  },
  {
   "cell_type": "code",
   "execution_count": null,
   "id": "ce4add59-c8e1-458e-8bb2-3ae782a7c910",
   "metadata": {},
   "outputs": [],
   "source": [
    "!qiime diversity alpha-rarefaction \\\n",
    "    --i-table results/2-asv-infer/ccs-denoised-table.qzv \\\n",
    "    --p-max-depth 10000 \\\n",
    "    --p-metrics 'shannon' \\\n",
    "    --o-visualization results/4-rarefy/asv-table-cleaned_arare.qzv \\\n",
    "\n",
    "# Visualize\n",
    "q2.Visualization.load('results/4-rarefy/asv-table-cleaned_arare.qzv')"
   ]
  },
  {
   "cell_type": "markdown",
   "id": "274d6ae8-935b-49f6-8c43-40092d93fdd9",
   "metadata": {},
   "source": [
    "### Rarefying samples\n",
    "As the rarefaction curves for the samples seem to have plateau-ed in the smallest number of ASVs (i.e., 2329), sampling depth will be set to this number."
   ]
  },
  {
   "cell_type": "code",
   "execution_count": null,
   "id": "255c282f-45e1-4a06-8edf-e0eb23ea94aa",
   "metadata": {},
   "outputs": [],
   "source": [
    "# Alpha and Beta Diversity Analyses\n",
    "!qiime diversity core-metrics-phylogenetic \\\n",
    "    --i-phylogeny results/3-tax-assign/rooted-tree.qza \\\n",
    "    --i-table results/2-asv-infer/ccs-denoised-table.qzv \\\n",
    "    --p-sampling-depth 2329 \\\n",
    "    --m-metadata-file metadata-day-2.txt \\\n",
    "    --output-dir results/5-diversity/core-metrics-results"
   ]
  },
  {
   "cell_type": "markdown",
   "id": "6fb296cc-c91d-47c8-8ed5-d5a76f91d5fb",
   "metadata": {},
   "source": [
    "# <font color = 'gray'>Step 5: Diversity Analysis</font>"
   ]
  },
  {
   "cell_type": "markdown",
   "id": "cd90d21b-f915-4ab7-8bcf-465de39167a5",
   "metadata": {},
   "source": [
    "### Visualizing beta diversity indices\n",
    "After looking for the discontinuity of data using hierarchical clustering, grouping of sites will then be viewed in a multidimensional space.\n",
    "\n",
    "Run the code blocks below to view the PCoA plot of each beta diversity metric. You can select a <i>color category</i> for any metadata column, for example, the cluster category, to see if any data points group together."
   ]
  },
  {
   "cell_type": "code",
   "execution_count": null,
   "id": "733a178f-ee7c-4607-8a5c-c8f1a90b1564",
   "metadata": {},
   "outputs": [],
   "source": [
    "# Jaccard distance\n",
    "q2.Visualization.load('results/5-diversity/core-metrics-results/jaccard_emperor.qzv')"
   ]
  },
  {
   "cell_type": "code",
   "execution_count": null,
   "id": "431c5491-b7e9-4fea-9a63-f6d6acc3d4ca",
   "metadata": {},
   "outputs": [],
   "source": [
    "# Bray-Curtis dissimilarity\n",
    "q2.Visualization.load('results/5-diversity/core-metrics-results/bray_curtis_emperor.qzv')"
   ]
  },
  {
   "cell_type": "code",
   "execution_count": null,
   "id": "649ec29b-da12-497a-b5b0-2fd893899f5d",
   "metadata": {},
   "outputs": [],
   "source": [
    "# Unweighted Unifrac\n",
    "q2.Visualization.load('results/5-diversity/core-metrics-results/unweighted_unifrac_emperor.qzv')"
   ]
  },
  {
   "cell_type": "code",
   "execution_count": null,
   "id": "20e00dc9-39e2-4524-a4bc-bbc84b3eac1c",
   "metadata": {},
   "outputs": [],
   "source": [
    "# Weighted Unifrac\n",
    "q2.Visualization.load('results/5-diversity/core-metrics-results/weighted_unifrac_emperor.qzv')"
   ]
  },
  {
   "cell_type": "markdown",
   "id": "6ce6b49e-87d9-4122-a821-aa24e9744f89",
   "metadata": {},
   "source": [
    "### Test for statistical significance in alpha diversity \n",
    "After visualizing in a multidimensional space and deciding on clusters, significance testing of the groups based on their alpha diversity will be done. This is explored to check if a cluster of sites is significantly more diverse than the other.\n",
    "\n",
    "Run the code blocks below to test for significance and view the results."
   ]
  },
  {
   "cell_type": "code",
   "execution_count": null,
   "id": "d9e124a5-25db-43cc-b243-8b31d782650f",
   "metadata": {},
   "outputs": [],
   "source": [
    "# Shannon\n",
    "!qiime diversity alpha-group-significance \\\n",
    "  --i-alpha-diversity results/5-diversity/core-metrics-results/shannon_vector.qza \\\n",
    "  --m-metadata-file metadata-day-2.txt \\\n",
    "  --o-visualization results/5-diversity/2-shannon-group-significance.qzv\n",
    "\n",
    "q2.Visualization.load('results/5-diversity/2-shannon-group-significance.qzv')"
   ]
  },
  {
   "cell_type": "code",
   "execution_count": null,
   "id": "51fe3d23-70bf-4b99-8908-b7f856893e0c",
   "metadata": {},
   "outputs": [],
   "source": [
    "# Faith's PD\n",
    "!qiime diversity alpha-group-significance \\\n",
    "  --i-alpha-diversity results/5-diversity/core-metrics-results/faith_pd_vector.qza \\\n",
    "  --m-metadata-file metadata-day-2.txt \\\n",
    "  --o-visualization results/5-diversity/3-faith_pd-group-significance.qzv\n",
    "\n",
    "q2.Visualization.load('results/5-diversity/3-faith_pd-group-significance.qzv')"
   ]
  },
  {
   "cell_type": "markdown",
   "id": "2ce203a8-d2d1-4fcb-bc61-2dfb475ac386",
   "metadata": {},
   "source": [
    "### Test for statistical significance in beta diversity\n",
    "Then, significance testing of the groups based on their beta diversity will be examined. This is done to check if there is a significant difference in the composition of communities between/among groups.\n",
    "\n",
    "Run the code blocks below to test for significance and view the results."
   ]
  },
  {
   "cell_type": "code",
   "execution_count": null,
   "id": "ac1ecd34-589f-490a-ac08-d25a1a08b988",
   "metadata": {},
   "outputs": [],
   "source": [
    "# Bray-Curtis\n",
    "!qiime diversity beta-group-significance \\\n",
    "  --i-distance-matrix results/5-diversity/core-metrics-results/bray_curtis_distance_matrix.qza \\\n",
    "  --m-metadata-file metadata-day-2.txt \\\n",
    "  --m-metadata-column cluster \\\n",
    "  --o-visualization results/5-diversity/4-bray-curtis-cluster-significance.qzv \\\n",
    "  --p-pairwise\n",
    "\n",
    "q2.Visualization.load('results/5-diversity/4-bray-curtis-cluster-significance.qzv')"
   ]
  },
  {
   "cell_type": "code",
   "execution_count": null,
   "id": "0eb966d7-b280-4978-8b5c-678470093124",
   "metadata": {},
   "outputs": [],
   "source": [
    "# Unweighted Unifrac\n",
    "!qiime diversity beta-group-significance \\\n",
    "  --i-distance-matrix results/5-diversity/core-metrics-results/unweighted_unifrac_distance_matrix.qza \\\n",
    "  --m-metadata-file metadata-day-2.txt \\\n",
    "  --m-metadata-column cluster \\\n",
    "  --o-visualization results/5-diversity/5-unweighted-unifrac-cluster-significance.qzv \\\n",
    "  --p-pairwise\n",
    "\n",
    "q2.Visualization.load('results/5-diversity/5-unweighted-unifrac-cluster-significance.qzv')"
   ]
  }
 ],
 "metadata": {
  "kernelspec": {
   "display_name": "Python 3 (ipykernel)",
   "language": "python",
   "name": "python3"
  },
  "language_info": {
   "codemirror_mode": {
    "name": "ipython",
    "version": 3
   },
   "file_extension": ".py",
   "mimetype": "text/x-python",
   "name": "python",
   "nbconvert_exporter": "python",
   "pygments_lexer": "ipython3",
   "version": "3.10.14"
  }
 },
 "nbformat": 4,
 "nbformat_minor": 5
}
